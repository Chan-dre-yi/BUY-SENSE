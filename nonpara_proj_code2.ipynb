{
 "cells": [
  {
   "cell_type": "code",
   "execution_count": 1,
   "id": "173dbab1",
   "metadata": {},
   "outputs": [],
   "source": [
    "import numpy as np\n",
    "import pandas as pd\n",
    "import matplotlib.pyplot as plt\n",
    "import seaborn as sns \n",
    "%matplotlib inline"
   ]
  },
  {
   "cell_type": "code",
   "execution_count": 2,
   "id": "4d5d6da4",
   "metadata": {},
   "outputs": [
    {
     "data": {
      "text/html": [
       "<div>\n",
       "<style scoped>\n",
       "    .dataframe tbody tr th:only-of-type {\n",
       "        vertical-align: middle;\n",
       "    }\n",
       "\n",
       "    .dataframe tbody tr th {\n",
       "        vertical-align: top;\n",
       "    }\n",
       "\n",
       "    .dataframe thead th {\n",
       "        text-align: right;\n",
       "    }\n",
       "</style>\n",
       "<table border=\"1\" class=\"dataframe\">\n",
       "  <thead>\n",
       "    <tr style=\"text-align: right;\">\n",
       "      <th></th>\n",
       "      <th>Name</th>\n",
       "      <th>Age</th>\n",
       "      <th>Gender</th>\n",
       "      <th>Occupation</th>\n",
       "      <th>Salary</th>\n",
       "      <th>Purchase_freq</th>\n",
       "      <th>Brand_name_imp</th>\n",
       "      <th>Research</th>\n",
       "      <th>Brand_switch_likeliness</th>\n",
       "      <th>Loyalty_prog_avail</th>\n",
       "      <th>Social_media_influence</th>\n",
       "      <th>Env_friendly_imp</th>\n",
       "      <th>Packaging_design_imp</th>\n",
       "      <th>Company_rep_imp</th>\n",
       "      <th>Sale_purchase_freq</th>\n",
       "      <th>Price_imp</th>\n",
       "      <th>Sustainability_imp</th>\n",
       "      <th>Customer_service_imp</th>\n",
       "      <th>Reviews_reliance</th>\n",
       "      <th>Product_rec_trust</th>\n",
       "    </tr>\n",
       "  </thead>\n",
       "  <tbody>\n",
       "    <tr>\n",
       "      <th>0</th>\n",
       "      <td>Ann Maria Moncy</td>\n",
       "      <td>21</td>\n",
       "      <td>Female</td>\n",
       "      <td>Student</td>\n",
       "      <td>&lt; 5 lakhs yearly</td>\n",
       "      <td>Occasionally</td>\n",
       "      <td>Somewhat important</td>\n",
       "      <td>Read online reviews</td>\n",
       "      <td>Very likely</td>\n",
       "      <td>Occasionally</td>\n",
       "      <td>A lot of influence</td>\n",
       "      <td>Very important</td>\n",
       "      <td>Somewhat important</td>\n",
       "      <td>Somewhat important</td>\n",
       "      <td>A lot</td>\n",
       "      <td>A lot</td>\n",
       "      <td>Very important</td>\n",
       "      <td>A lot</td>\n",
       "      <td>A lot</td>\n",
       "      <td>Somewhat</td>\n",
       "    </tr>\n",
       "    <tr>\n",
       "      <th>1</th>\n",
       "      <td>Meghna</td>\n",
       "      <td>21</td>\n",
       "      <td>Female</td>\n",
       "      <td>Student</td>\n",
       "      <td>&lt; 5 lakhs yearly</td>\n",
       "      <td>Occasionally</td>\n",
       "      <td>Somewhat important</td>\n",
       "      <td>Ask friends and family for recommendation</td>\n",
       "      <td>SomewhatlLikely</td>\n",
       "      <td>Occasionally</td>\n",
       "      <td>Some influence</td>\n",
       "      <td>Very important</td>\n",
       "      <td>Somewhat important</td>\n",
       "      <td>Somewhat important</td>\n",
       "      <td>Somewhat</td>\n",
       "      <td>Somewhat</td>\n",
       "      <td>Somewhat important</td>\n",
       "      <td>Somewhat</td>\n",
       "      <td>Somewhat</td>\n",
       "      <td>Somewhat</td>\n",
       "    </tr>\n",
       "    <tr>\n",
       "      <th>2</th>\n",
       "      <td>Marie Cheryl biju</td>\n",
       "      <td>21</td>\n",
       "      <td>Female</td>\n",
       "      <td>Student</td>\n",
       "      <td>&lt; 5 lakhs yearly</td>\n",
       "      <td>Occasionally</td>\n",
       "      <td>Somewhat important</td>\n",
       "      <td>Read online reviews</td>\n",
       "      <td>SomewhatlLikely</td>\n",
       "      <td>Occasionally</td>\n",
       "      <td>A lot of influence</td>\n",
       "      <td>Very important</td>\n",
       "      <td>Not important at all</td>\n",
       "      <td>Somewhat important</td>\n",
       "      <td>A lot</td>\n",
       "      <td>A lot</td>\n",
       "      <td>Somewhat important</td>\n",
       "      <td>Not at all</td>\n",
       "      <td>Not at all</td>\n",
       "      <td>Not at all</td>\n",
       "    </tr>\n",
       "    <tr>\n",
       "      <th>3</th>\n",
       "      <td>Sangeeth Promod</td>\n",
       "      <td>21</td>\n",
       "      <td>Male</td>\n",
       "      <td>IT professional</td>\n",
       "      <td>&lt; 5 lakhs yearly</td>\n",
       "      <td>Occasionally</td>\n",
       "      <td>Somewhat important</td>\n",
       "      <td>Read online reviews</td>\n",
       "      <td>Extremely likely</td>\n",
       "      <td>Almost always</td>\n",
       "      <td>Some influence</td>\n",
       "      <td>Unimportant</td>\n",
       "      <td>Somewhat important</td>\n",
       "      <td>Very important</td>\n",
       "      <td>Somewhat</td>\n",
       "      <td>Extremely</td>\n",
       "      <td>Unimportant</td>\n",
       "      <td>Somewhat</td>\n",
       "      <td>A lot</td>\n",
       "      <td>Not at all</td>\n",
       "    </tr>\n",
       "    <tr>\n",
       "      <th>4</th>\n",
       "      <td>Aravind S</td>\n",
       "      <td>21</td>\n",
       "      <td>Male</td>\n",
       "      <td>IT professional</td>\n",
       "      <td>5 - 10 lakhs yearly</td>\n",
       "      <td>Occasionally</td>\n",
       "      <td>Somewhat important</td>\n",
       "      <td>Read online reviews</td>\n",
       "      <td>Very likely</td>\n",
       "      <td>Occasionally</td>\n",
       "      <td>A lot of influence</td>\n",
       "      <td>Very important</td>\n",
       "      <td>Somewhat important</td>\n",
       "      <td>Very important</td>\n",
       "      <td>Somewhat</td>\n",
       "      <td>A lot</td>\n",
       "      <td>Very important</td>\n",
       "      <td>Somewhat</td>\n",
       "      <td>A lot</td>\n",
       "      <td>Somewhat</td>\n",
       "    </tr>\n",
       "  </tbody>\n",
       "</table>\n",
       "</div>"
      ],
      "text/plain": [
       "                Name  Age  Gender       Occupation               Salary  \\\n",
       "0   Ann Maria Moncy    21  Female          Student     < 5 lakhs yearly   \n",
       "1             Meghna   21  Female          Student     < 5 lakhs yearly   \n",
       "2  Marie Cheryl biju   21  Female          Student     < 5 lakhs yearly   \n",
       "3   Sangeeth Promod    21    Male  IT professional     < 5 lakhs yearly   \n",
       "4         Aravind S    21    Male  IT professional  5 - 10 lakhs yearly   \n",
       "\n",
       "  Purchase_freq      Brand_name_imp  \\\n",
       "0  Occasionally  Somewhat important   \n",
       "1  Occasionally  Somewhat important   \n",
       "2  Occasionally  Somewhat important   \n",
       "3  Occasionally  Somewhat important   \n",
       "4  Occasionally  Somewhat important   \n",
       "\n",
       "                                    Research Brand_switch_likeliness  \\\n",
       "0                        Read online reviews             Very likely   \n",
       "1  Ask friends and family for recommendation         SomewhatlLikely   \n",
       "2                        Read online reviews         SomewhatlLikely   \n",
       "3                        Read online reviews        Extremely likely   \n",
       "4                        Read online reviews             Very likely   \n",
       "\n",
       "  Loyalty_prog_avail Social_media_influence Env_friendly_imp  \\\n",
       "0       Occasionally     A lot of influence   Very important   \n",
       "1       Occasionally         Some influence   Very important   \n",
       "2       Occasionally     A lot of influence   Very important   \n",
       "3      Almost always         Some influence      Unimportant   \n",
       "4       Occasionally     A lot of influence   Very important   \n",
       "\n",
       "   Packaging_design_imp     Company_rep_imp Sale_purchase_freq  Price_imp  \\\n",
       "0    Somewhat important  Somewhat important              A lot      A lot   \n",
       "1    Somewhat important  Somewhat important           Somewhat   Somewhat   \n",
       "2  Not important at all  Somewhat important              A lot      A lot   \n",
       "3    Somewhat important      Very important           Somewhat  Extremely   \n",
       "4    Somewhat important      Very important           Somewhat      A lot   \n",
       "\n",
       "   Sustainability_imp Customer_service_imp Reviews_reliance Product_rec_trust  \n",
       "0      Very important                A lot            A lot          Somewhat  \n",
       "1  Somewhat important             Somewhat         Somewhat          Somewhat  \n",
       "2  Somewhat important           Not at all       Not at all        Not at all  \n",
       "3         Unimportant             Somewhat            A lot        Not at all  \n",
       "4      Very important             Somewhat            A lot          Somewhat  "
      ]
     },
     "execution_count": 2,
     "metadata": {},
     "output_type": "execute_result"
    }
   ],
   "source": [
    "df = pd.read_csv('data.csv')\n",
    "df.head()"
   ]
  },
  {
   "cell_type": "code",
   "execution_count": 3,
   "id": "2f02c09e",
   "metadata": {},
   "outputs": [
    {
     "data": {
      "text/html": [
       "<div>\n",
       "<style scoped>\n",
       "    .dataframe tbody tr th:only-of-type {\n",
       "        vertical-align: middle;\n",
       "    }\n",
       "\n",
       "    .dataframe tbody tr th {\n",
       "        vertical-align: top;\n",
       "    }\n",
       "\n",
       "    .dataframe thead th {\n",
       "        text-align: right;\n",
       "    }\n",
       "</style>\n",
       "<table border=\"1\" class=\"dataframe\">\n",
       "  <thead>\n",
       "    <tr style=\"text-align: right;\">\n",
       "      <th></th>\n",
       "      <th>Age</th>\n",
       "    </tr>\n",
       "  </thead>\n",
       "  <tbody>\n",
       "    <tr>\n",
       "      <th>count</th>\n",
       "      <td>161.000000</td>\n",
       "    </tr>\n",
       "    <tr>\n",
       "      <th>mean</th>\n",
       "      <td>25.385093</td>\n",
       "    </tr>\n",
       "    <tr>\n",
       "      <th>std</th>\n",
       "      <td>9.985654</td>\n",
       "    </tr>\n",
       "    <tr>\n",
       "      <th>min</th>\n",
       "      <td>15.000000</td>\n",
       "    </tr>\n",
       "    <tr>\n",
       "      <th>25%</th>\n",
       "      <td>21.000000</td>\n",
       "    </tr>\n",
       "    <tr>\n",
       "      <th>50%</th>\n",
       "      <td>21.000000</td>\n",
       "    </tr>\n",
       "    <tr>\n",
       "      <th>75%</th>\n",
       "      <td>23.000000</td>\n",
       "    </tr>\n",
       "    <tr>\n",
       "      <th>max</th>\n",
       "      <td>54.000000</td>\n",
       "    </tr>\n",
       "  </tbody>\n",
       "</table>\n",
       "</div>"
      ],
      "text/plain": [
       "              Age\n",
       "count  161.000000\n",
       "mean    25.385093\n",
       "std      9.985654\n",
       "min     15.000000\n",
       "25%     21.000000\n",
       "50%     21.000000\n",
       "75%     23.000000\n",
       "max     54.000000"
      ]
     },
     "execution_count": 3,
     "metadata": {},
     "output_type": "execute_result"
    }
   ],
   "source": [
    "df.describe()"
   ]
  },
  {
   "cell_type": "code",
   "execution_count": 4,
   "id": "50cd088a",
   "metadata": {},
   "outputs": [
    {
     "data": {
      "text/plain": [
       "Name                       object\n",
       "Age                         int64\n",
       "Gender                     object\n",
       "Occupation                 object\n",
       "Salary                     object\n",
       "Purchase_freq              object\n",
       "Brand_name_imp             object\n",
       "Research                   object\n",
       "Brand_switch_likeliness    object\n",
       "Loyalty_prog_avail         object\n",
       "Social_media_influence     object\n",
       "Env_friendly_imp           object\n",
       "Packaging_design_imp       object\n",
       "Company_rep_imp            object\n",
       "Sale_purchase_freq         object\n",
       "Price_imp                  object\n",
       "Sustainability_imp         object\n",
       "Customer_service_imp       object\n",
       "Reviews_reliance           object\n",
       "Product_rec_trust          object\n",
       "dtype: object"
      ]
     },
     "execution_count": 4,
     "metadata": {},
     "output_type": "execute_result"
    }
   ],
   "source": [
    "df.dtypes"
   ]
  },
  {
   "cell_type": "code",
   "execution_count": 5,
   "id": "87cce09e",
   "metadata": {},
   "outputs": [
    {
     "name": "stdout",
     "output_type": "stream",
     "text": [
      "54 15\n"
     ]
    }
   ],
   "source": [
    "# Name will stay object\n",
    "# Manipulating age: dividing into 4 categories:\n",
    "maxx = max(df.Age) # 54\n",
    "minn = min(df.Age) # 15\n",
    "print(maxx, minn)"
   ]
  },
  {
   "cell_type": "code",
   "execution_count": 6,
   "id": "6d24ad06",
   "metadata": {},
   "outputs": [
    {
     "data": {
      "text/plain": [
       "39"
      ]
     },
     "execution_count": 6,
     "metadata": {},
     "output_type": "execute_result"
    }
   ],
   "source": [
    "(54-15) #range of age"
   ]
  },
  {
   "cell_type": "code",
   "execution_count": 7,
   "id": "cd86b6a9",
   "metadata": {},
   "outputs": [
    {
     "data": {
      "text/plain": [
       "0      18 - 25\n",
       "1      18 - 25\n",
       "2      18 - 25\n",
       "3      18 - 25\n",
       "4      18 - 25\n",
       "        ...   \n",
       "156    18 - 25\n",
       "157    18 - 25\n",
       "158    18 - 25\n",
       "159    18 - 25\n",
       "160    25 - 30\n",
       "Name: Age_range, Length: 161, dtype: object"
      ]
     },
     "execution_count": 7,
     "metadata": {},
     "output_type": "execute_result"
    }
   ],
   "source": [
    "# categories:\n",
    "# < 18\n",
    "# 20 - 30\n",
    "# 30 - 40\n",
    "# 40 - 50\n",
    "# > 50\n",
    "\n",
    "#df[\"Age\"] = if x in df.Age for x < 18: df[\"Age\"]\n",
    "df.loc[df['Age'] <18, 'Age_range'] = '< 18'\n",
    "df.loc[(df['Age'] >=18) & (df['Age'] <25), 'Age_range'] = '18 - 25'\n",
    "df.loc[(df['Age'] >= 25) & (df['Age'] <30), 'Age_range'] = '25 - 30'\n",
    "df.loc[(df['Age'] >= 30) & (df['Age'] <40), 'Age_range'] = '30 - 40'\n",
    "df.loc[(df['Age'] >= 40) & (df['Age'] <50), 'Age_range'] = '40 - 50'\n",
    "df.loc[df['Age'] >= 50, 'Age_range'] = '> 50'\n",
    "\n",
    "df.Age_range"
   ]
  },
  {
   "cell_type": "code",
   "execution_count": 8,
   "id": "bb0ae6dc",
   "metadata": {},
   "outputs": [
    {
     "data": {
      "text/plain": [
       "0      2.0\n",
       "1      2.0\n",
       "2      2.0\n",
       "3      2.0\n",
       "4      2.0\n",
       "      ... \n",
       "156    2.0\n",
       "157    2.0\n",
       "158    2.0\n",
       "159    2.0\n",
       "160    3.0\n",
       "Name: Age_order, Length: 161, dtype: float64"
      ]
     },
     "execution_count": 8,
     "metadata": {},
     "output_type": "execute_result"
    }
   ],
   "source": [
    "# Age_order variable possible as its ordinal\n",
    "# 6 divisions: 1 < 2... 6\n",
    "\n",
    "df.loc[df['Age'] <18, 'Age_order'] = 1\n",
    "df.loc[(df['Age'] >=18) & (df['Age'] <25), 'Age_order'] = 2\n",
    "df.loc[(df['Age'] >= 25) & (df['Age'] <30), 'Age_order'] = 3\n",
    "df.loc[(df['Age'] >= 30) & (df['Age'] <40), 'Age_order'] = 4\n",
    "df.loc[(df['Age'] >= 40) & (df['Age'] <50), 'Age_order'] = 5\n",
    "df.loc[df['Age'] >= 50, 'Age_order'] = 6\n",
    "\n",
    "df.Age_order"
   ]
  },
  {
   "cell_type": "code",
   "execution_count": 9,
   "id": "45743a45",
   "metadata": {},
   "outputs": [
    {
     "data": {
      "text/plain": [
       "0      1.0\n",
       "1      1.0\n",
       "2      1.0\n",
       "3      1.0\n",
       "4      2.0\n",
       "      ... \n",
       "156    3.0\n",
       "157    1.0\n",
       "158    1.0\n",
       "159    1.0\n",
       "160    3.0\n",
       "Name: Salary_order, Length: 161, dtype: float64"
      ]
     },
     "execution_count": 9,
     "metadata": {},
     "output_type": "execute_result"
    }
   ],
   "source": [
    "# Gender is nominal - not order-able\n",
    "# occupation not orderable\n",
    "# salary range orderable:\n",
    "\n",
    "df.loc[df['Salary'] == \"< 5 lakhs yearly\", 'Salary_order'] = 1\n",
    "df.loc[df['Salary'] == \"5 - 10 lakhs yearly\", 'Salary_order'] = 2\n",
    "df.loc[df['Salary'] == \"10 - 15 lakhs yearly\", 'Salary_order'] = 3\n",
    "df.loc[df['Salary'] == \"15 - 20 lakhs yearly\", 'Salary_order'] = 4\n",
    "df.loc[df['Salary'] == \"> 20 lakhs yearly\", 'Salary_order'] = 5\n",
    "\n",
    "df.Salary_order"
   ]
  },
  {
   "cell_type": "code",
   "execution_count": 10,
   "id": "ef13101b",
   "metadata": {},
   "outputs": [
    {
     "data": {
      "text/plain": [
       "0      2.0\n",
       "1      3.0\n",
       "2      3.0\n",
       "3      1.0\n",
       "4      2.0\n",
       "      ... \n",
       "156    1.0\n",
       "157    3.0\n",
       "158    3.0\n",
       "159    1.0\n",
       "160    3.0\n",
       "Name: Brand_switch_likeliness_order, Length: 161, dtype: float64"
      ]
     },
     "execution_count": 10,
     "metadata": {},
     "output_type": "execute_result"
    }
   ],
   "source": [
    "# switch brands: orderable - yes to no\n",
    "# Brand switching is a reverse factor to brand loyalty hence we order it yes to no\n",
    "\n",
    "df.loc[df['Brand_switch_likeliness'] == \"Not likely at all\", 'Brand_switch_likeliness_order'] = 4\n",
    "df.loc[df['Brand_switch_likeliness'] == \"SomewhatlLikely\", 'Brand_switch_likeliness_order'] = 3\n",
    "df.loc[df['Brand_switch_likeliness'] == \"Very likely\", 'Brand_switch_likeliness_order'] = 2\n",
    "df.loc[df['Brand_switch_likeliness'] == \"Extremely likely\", 'Brand_switch_likeliness_order'] = 1\n",
    "\n",
    "df.Brand_switch_likeliness_order"
   ]
  },
  {
   "cell_type": "code",
   "execution_count": 11,
   "id": "4578bb07",
   "metadata": {},
   "outputs": [
    {
     "data": {
      "text/plain": [
       "0      4.0\n",
       "1      2.0\n",
       "2      4.0\n",
       "3      2.0\n",
       "4      4.0\n",
       "      ... \n",
       "156    2.0\n",
       "157    2.0\n",
       "158    2.0\n",
       "159    2.0\n",
       "160    2.0\n",
       "Name: Social_media_influence_order, Length: 161, dtype: float64"
      ]
     },
     "execution_count": 11,
     "metadata": {},
     "output_type": "execute_result"
    }
   ],
   "source": [
    "# social media inf orderable: no to yes\n",
    "\n",
    "df.loc[df['Social_media_influence'] == \"No influence at all\", 'Social_media_influence_order'] = 1\n",
    "df.loc[df['Social_media_influence'] == \"Some influence\", 'Social_media_influence_order'] = 2\n",
    "df.loc[df['Social_media_influence'] == \"Almost all influence\", 'Social_media_influence_order'] = 3\n",
    "df.loc[df['Social_media_influence'] == \"A lot of influence\", 'Social_media_influence_order'] = 4\n",
    "\n",
    "df.Social_media_influence_order"
   ]
  },
  {
   "cell_type": "code",
   "execution_count": 12,
   "id": "cabebff8",
   "metadata": {},
   "outputs": [
    {
     "data": {
      "text/plain": [
       "0      2.0\n",
       "1      2.0\n",
       "2      2.0\n",
       "3      4.0\n",
       "4      2.0\n",
       "      ... \n",
       "156    3.0\n",
       "157    1.0\n",
       "158    3.0\n",
       "159    3.0\n",
       "160    3.0\n",
       "Name: Loyalty_prog_avail_order, Length: 161, dtype: float64"
      ]
     },
     "execution_count": 12,
     "metadata": {},
     "output_type": "execute_result"
    }
   ],
   "source": [
    "# loyalty progs avail can be ordered: no to yes\n",
    "\n",
    "df.loc[df['Loyalty_prog_avail'] == \"Almost never\", 'Loyalty_prog_avail_order'] = 1\n",
    "df.loc[df['Loyalty_prog_avail'] == \"Occasionally\", 'Loyalty_prog_avail_order'] = 2\n",
    "df.loc[df['Loyalty_prog_avail'] == \"Frequently\", 'Loyalty_prog_avail_order'] = 3\n",
    "df.loc[df['Loyalty_prog_avail'] == \"Almost always\", 'Loyalty_prog_avail_order'] = 4\n",
    "\n",
    "df.Loyalty_prog_avail_order"
   ]
  },
  {
   "cell_type": "code",
   "execution_count": 13,
   "id": "323d1631",
   "metadata": {},
   "outputs": [
    {
     "data": {
      "text/plain": [
       "0      3.0\n",
       "1      2.0\n",
       "2      1.0\n",
       "3      3.0\n",
       "4      3.0\n",
       "      ... \n",
       "156    3.0\n",
       "157    2.0\n",
       "158    4.0\n",
       "159    3.0\n",
       "160    4.0\n",
       "Name: Reviews_reliance_order, Length: 161, dtype: float64"
      ]
     },
     "execution_count": 13,
     "metadata": {},
     "output_type": "execute_result"
    }
   ],
   "source": [
    "# reiance on online reviews can be ordered no to yes\n",
    "\n",
    "df.loc[df['Reviews_reliance'] == \"Not at all\", 'Reviews_reliance_order'] = 1\n",
    "df.loc[df['Reviews_reliance'] == \"Somewhat\", 'Reviews_reliance_order'] = 2\n",
    "df.loc[df['Reviews_reliance'] == \"A lot\", 'Reviews_reliance_order'] = 3\n",
    "df.loc[df['Reviews_reliance'] == \"Extremely\", 'Reviews_reliance_order'] = 4\n",
    "\n",
    "df.Reviews_reliance_order"
   ]
  },
  {
   "cell_type": "code",
   "execution_count": 14,
   "id": "2603fc69",
   "metadata": {},
   "outputs": [
    {
     "data": {
      "text/plain": [
       "0      2.0\n",
       "1      2.0\n",
       "2      1.0\n",
       "3      1.0\n",
       "4      2.0\n",
       "      ... \n",
       "156    2.0\n",
       "157    1.0\n",
       "158    1.0\n",
       "159    1.0\n",
       "160    2.0\n",
       "Name: Product_rec_trust_order, Length: 161, dtype: float64"
      ]
     },
     "execution_count": 14,
     "metadata": {},
     "output_type": "execute_result"
    }
   ],
   "source": [
    "# trust on product recommendations can be ordered no to yes\n",
    "\n",
    "df.loc[df['Product_rec_trust'] == \"Not at all\", 'Product_rec_trust_order'] = 1\n",
    "df.loc[df['Product_rec_trust'] == \"Somewhat\", 'Product_rec_trust_order'] = 2\n",
    "df.loc[df['Product_rec_trust'] == \"A lot\", 'Product_rec_trust_order'] = 3\n",
    "df.loc[df['Product_rec_trust'] == \"Extremely\", 'Product_rec_trust_order'] = 4\n",
    "\n",
    "df.Product_rec_trust_order"
   ]
  },
  {
   "cell_type": "code",
   "execution_count": 15,
   "id": "e707d131",
   "metadata": {},
   "outputs": [
    {
     "data": {
      "text/plain": [
       "0      3.0\n",
       "1      2.0\n",
       "2      3.0\n",
       "3      2.0\n",
       "4      2.0\n",
       "      ... \n",
       "156    3.0\n",
       "157    2.0\n",
       "158    3.0\n",
       "159    2.0\n",
       "160    3.0\n",
       "Name: Sale_purchase_freq_order, Length: 161, dtype: float64"
      ]
     },
     "execution_count": 15,
     "metadata": {},
     "output_type": "execute_result"
    }
   ],
   "source": [
    "# sale dependency can be ordered no to yes\n",
    "\n",
    "df.loc[df['Sale_purchase_freq'] == \"Not at all\", 'Sale_purchase_freq_order'] = 1\n",
    "df.loc[df['Sale_purchase_freq'] == \"Somewhat\", 'Sale_purchase_freq_order'] = 2\n",
    "df.loc[df['Sale_purchase_freq'] == \"A lot\", 'Sale_purchase_freq_order'] = 3\n",
    "df.loc[df['Sale_purchase_freq'] == \"Extremely\", 'Sale_purchase_freq_order'] = 4\n",
    "\n",
    "df.Sale_purchase_freq_order"
   ]
  },
  {
   "cell_type": "code",
   "execution_count": 16,
   "id": "3f8e7df8",
   "metadata": {},
   "outputs": [],
   "source": [
    "#.\n",
    "#.\n",
    "#.\n",
    "#.\n",
    "#."
   ]
  },
  {
   "cell_type": "code",
   "execution_count": 17,
   "id": "867a581f",
   "metadata": {},
   "outputs": [
    {
     "data": {
      "text/plain": [
       "0      2.0\n",
       "1      2.0\n",
       "2      2.0\n",
       "3      2.0\n",
       "4      2.0\n",
       "      ... \n",
       "156    4.0\n",
       "157    1.0\n",
       "158    3.0\n",
       "159    2.0\n",
       "160    2.0\n",
       "Name: Purchase_freq_order, Length: 161, dtype: float64"
      ]
     },
     "execution_count": 17,
     "metadata": {},
     "output_type": "execute_result"
    }
   ],
   "source": [
    "# purchase freq can be ordered: no to yes\n",
    "\n",
    "df.loc[df['Purchase_freq'] == \"Almost never\", 'Purchase_freq_order'] = 1\n",
    "df.loc[df['Purchase_freq'] == \"Occasionally\", 'Purchase_freq_order'] = 2\n",
    "df.loc[df['Purchase_freq'] == \"Frequently\", 'Purchase_freq_order'] = 3\n",
    "df.loc[df['Purchase_freq'] == \"Almost always\", 'Purchase_freq_order'] = 4\n",
    "\n",
    "df.Purchase_freq_order"
   ]
  },
  {
   "cell_type": "code",
   "execution_count": 18,
   "id": "0d26a7df",
   "metadata": {},
   "outputs": [
    {
     "data": {
      "text/plain": [
       "0      2.0\n",
       "1      2.0\n",
       "2      2.0\n",
       "3      2.0\n",
       "4      2.0\n",
       "      ... \n",
       "156    4.0\n",
       "157    3.0\n",
       "158    3.0\n",
       "159    2.0\n",
       "160    2.0\n",
       "Name: Brand_name_imp_order, Length: 161, dtype: float64"
      ]
     },
     "execution_count": 18,
     "metadata": {},
     "output_type": "execute_result"
    }
   ],
   "source": [
    "# brand name importance can be ordered: no to yes\n",
    "\n",
    "df.loc[df['Brand_name_imp'] == \"Not important at all\", 'Brand_name_imp_order'] = 1\n",
    "df.loc[df['Brand_name_imp'] == \"Somewhat important\", 'Brand_name_imp_order'] = 2\n",
    "df.loc[df['Brand_name_imp'] == \"Very important\", 'Brand_name_imp_order'] = 3\n",
    "df.loc[df['Brand_name_imp'] == \"Extremely important\", 'Brand_name_imp_order'] = 4\n",
    "\n",
    "df.Brand_name_imp_order"
   ]
  },
  {
   "cell_type": "code",
   "execution_count": 19,
   "id": "cc0d41f4",
   "metadata": {},
   "outputs": [
    {
     "data": {
      "text/plain": [
       "0      3.0\n",
       "1      3.0\n",
       "2      3.0\n",
       "3      1.0\n",
       "4      3.0\n",
       "      ... \n",
       "156    3.0\n",
       "157    3.0\n",
       "158    1.0\n",
       "159    3.0\n",
       "160    3.0\n",
       "Name: Env_friendly_imp_order, Length: 161, dtype: float64"
      ]
     },
     "execution_count": 19,
     "metadata": {},
     "output_type": "execute_result"
    }
   ],
   "source": [
    "# Research type is not ordinal\n",
    "# Brand switching is skipped here as already added in customer\n",
    "# env friendly: no to yes: DONT KNOW IF RELEVANT\n",
    "\n",
    "df.loc[df['Env_friendly_imp'] == \"Unimportant\", 'Env_friendly_imp_order'] = 1\n",
    "df.loc[df['Env_friendly_imp'] == \"Somewhat important\", 'Env_friendly_imp_order'] = 2\n",
    "df.loc[df['Env_friendly_imp'] == \"Very important\", 'Env_friendly_imp_order'] = 3\n",
    "df.loc[df['Env_friendly_imp'] == \"Extremely important\", 'Env_friendly_imp_order'] = 4\n",
    "\n",
    "df.Env_friendly_imp_order"
   ]
  },
  {
   "cell_type": "code",
   "execution_count": 20,
   "id": "6272f6a9",
   "metadata": {},
   "outputs": [
    {
     "data": {
      "text/plain": [
       "0      2.0\n",
       "1      2.0\n",
       "2      2.0\n",
       "3      3.0\n",
       "4      3.0\n",
       "      ... \n",
       "156    3.0\n",
       "157    2.0\n",
       "158    4.0\n",
       "159    3.0\n",
       "160    2.0\n",
       "Name: Company_rep_imp_order, Length: 161, dtype: float64"
      ]
     },
     "execution_count": 20,
     "metadata": {},
     "output_type": "execute_result"
    }
   ],
   "source": [
    "# weight to reputation: no to yes\n",
    "\n",
    "df.loc[df['Company_rep_imp'] == \"Not important at all\", 'Company_rep_imp_order'] = 1\n",
    "df.loc[df['Company_rep_imp'] == \"Somewhat important\", 'Company_rep_imp_order'] = 2\n",
    "df.loc[df['Company_rep_imp'] == \"Very important\", 'Company_rep_imp_order'] = 3\n",
    "df.loc[df['Company_rep_imp'] == \"Extremely important\", 'Company_rep_imp_order'] = 4\n",
    "\n",
    "df.Company_rep_imp_order"
   ]
  },
  {
   "cell_type": "code",
   "execution_count": 21,
   "id": "65233149",
   "metadata": {},
   "outputs": [
    {
     "data": {
      "text/plain": [
       "0      3.0\n",
       "1      2.0\n",
       "2      2.0\n",
       "3      1.0\n",
       "4      3.0\n",
       "      ... \n",
       "156    3.0\n",
       "157    3.0\n",
       "158    2.0\n",
       "159    3.0\n",
       "160    4.0\n",
       "Name: Sustainability_imp_order, Length: 161, dtype: float64"
      ]
     },
     "execution_count": 21,
     "metadata": {},
     "output_type": "execute_result"
    }
   ],
   "source": [
    "# sustainability: no to yes: DONT KNOW IF RELEVANT\n",
    "\n",
    "df.loc[df['Sustainability_imp'] == \"Unimportant\", 'Sustainability_imp_order'] = 1\n",
    "df.loc[df['Sustainability_imp'] == \"Somewhat important\", 'Sustainability_imp_order'] = 2\n",
    "df.loc[df['Sustainability_imp'] == \"Very important\", 'Sustainability_imp_order'] = 3\n",
    "df.loc[df['Sustainability_imp'] == \"Extremely important\", 'Sustainability_imp_order'] = 4\n",
    "\n",
    "df.Sustainability_imp_order"
   ]
  },
  {
   "cell_type": "code",
   "execution_count": 22,
   "id": "68d82b4e",
   "metadata": {},
   "outputs": [
    {
     "data": {
      "text/plain": [
       "0      3.0\n",
       "1      2.0\n",
       "2      1.0\n",
       "3      2.0\n",
       "4      2.0\n",
       "      ... \n",
       "156    3.0\n",
       "157    3.0\n",
       "158    3.0\n",
       "159    3.0\n",
       "160    2.0\n",
       "Name: Customer_service_imp_order, Length: 161, dtype: float64"
      ]
     },
     "execution_count": 22,
     "metadata": {},
     "output_type": "execute_result"
    }
   ],
   "source": [
    "# Customer service imp is ordinal: no to yes\n",
    "\n",
    "df.loc[df['Customer_service_imp'] == \"Not at all\", 'Customer_service_imp_order'] = 1\n",
    "df.loc[df['Customer_service_imp'] == \"Somewhat\", 'Customer_service_imp_order'] = 2\n",
    "df.loc[df['Customer_service_imp'] == \"A lot\", 'Customer_service_imp_order'] = 3\n",
    "df.loc[df['Customer_service_imp'] == \"Extremely\", 'Customer_service_imp_order'] = 4\n",
    "\n",
    "df.Customer_service_imp_order"
   ]
  },
  {
   "cell_type": "code",
   "execution_count": 23,
   "id": "6a0dcbd9",
   "metadata": {},
   "outputs": [
    {
     "data": {
      "text/plain": [
       "0      3.0\n",
       "1      2.0\n",
       "2      3.0\n",
       "3      4.0\n",
       "4      3.0\n",
       "      ... \n",
       "156    2.0\n",
       "157    3.0\n",
       "158    4.0\n",
       "159    4.0\n",
       "160    4.0\n",
       "Name: Price_imp_order, Length: 161, dtype: float64"
      ]
     },
     "execution_count": 23,
     "metadata": {},
     "output_type": "execute_result"
    }
   ],
   "source": [
    "# price is again ordinal and positively correlated with brand hence no to yes\n",
    "\n",
    "df.loc[df['Price_imp'] == \"Not at all\", 'Price_imp_order'] = 1\n",
    "df.loc[df['Price_imp'] == \"Somewhat\", 'Price_imp_order'] = 2\n",
    "df.loc[df['Price_imp'] == \"A lot\", 'Price_imp_order'] = 3\n",
    "df.loc[df['Price_imp'] == \"Extremely\", 'Price_imp_order'] = 4\n",
    "\n",
    "df.Price_imp_order"
   ]
  },
  {
   "cell_type": "code",
   "execution_count": 24,
   "id": "6bfb9171",
   "metadata": {},
   "outputs": [
    {
     "data": {
      "text/plain": [
       "0      2.0\n",
       "1      2.0\n",
       "2      1.0\n",
       "3      2.0\n",
       "4      2.0\n",
       "      ... \n",
       "156    3.0\n",
       "157    2.0\n",
       "158    1.0\n",
       "159    2.0\n",
       "160    2.0\n",
       "Name: Packaging_design_imp_order, Length: 161, dtype: float64"
      ]
     },
     "execution_count": 24,
     "metadata": {},
     "output_type": "execute_result"
    }
   ],
   "source": [
    "# Packaging design: ordinal: positive corr: no to yes\n",
    "\n",
    "df.loc[df['Packaging_design_imp'] == \"Not important at all\", 'Packaging_design_imp_order'] = 1\n",
    "df.loc[df['Packaging_design_imp'] == \"Somewhat important\", 'Packaging_design_imp_order'] = 2\n",
    "df.loc[df['Packaging_design_imp'] == \"Very important\", 'Packaging_design_imp_order'] = 3\n",
    "df.loc[df['Packaging_design_imp'] == \"Extremely important\", 'Packaging_design_imp_order'] = 4\n",
    "\n",
    "df.Packaging_design_imp_order"
   ]
  },
  {
   "cell_type": "code",
   "execution_count": 25,
   "id": "b55adfd6",
   "metadata": {},
   "outputs": [],
   "source": [
    "# Q: to find if there is a correlation between consumer's brand loyalty and his/ her puchasing habits"
   ]
  },
  {
   "cell_type": "code",
   "execution_count": 26,
   "id": "6cfe70c4",
   "metadata": {},
   "outputs": [],
   "source": [
    "# Var 1: Purchasing habits: func of vars: Age_order, Salary_order, \n",
    "# Social_media_influence_order, Loyalty_prog_avail_order, Reviews_reliance_order, Product_rec_trust_order, \n",
    "# Sale_purchase_freq_order, Purchase_freq_order\n",
    "# MAIN VAR: Purchase_freq_order\n",
    "\n",
    "pur_habits_corr = []\n",
    "\n",
    "def corrfunc(a,b):\n",
    "    # create two arrays of data\n",
    "    x = np.array(a)\n",
    "    y = np.array(b)\n",
    "    # find the correlation coefficient value\n",
    "    corr_coef = np.corrcoef(x, y)[0, 1]\n",
    "    pur_habits_corr.append(corr_coef)\n",
    "    print(corr_coef)"
   ]
  },
  {
   "cell_type": "code",
   "execution_count": 27,
   "id": "76ae2a36",
   "metadata": {},
   "outputs": [
    {
     "name": "stdout",
     "output_type": "stream",
     "text": [
      "-0.12866833015305573\n"
     ]
    }
   ],
   "source": [
    "corrfunc(df[\"Age_order\"],df[\"Purchase_freq_order\"])"
   ]
  },
  {
   "cell_type": "code",
   "execution_count": 28,
   "id": "4baf6d7b",
   "metadata": {},
   "outputs": [
    {
     "name": "stdout",
     "output_type": "stream",
     "text": [
      "-0.03401266845180915\n"
     ]
    }
   ],
   "source": [
    "corrfunc(df[\"Salary_order\"],df[\"Purchase_freq_order\"])"
   ]
  },
  {
   "cell_type": "code",
   "execution_count": 29,
   "id": "2f3bdcfe",
   "metadata": {},
   "outputs": [
    {
     "name": "stdout",
     "output_type": "stream",
     "text": [
      "0.14155606437299684\n",
      "0.255970014961073\n",
      "0.22943979838902095\n",
      "0.14249613312283235\n",
      "0.22766316963581237\n"
     ]
    }
   ],
   "source": [
    "corrfunc(df[\"Social_media_influence_order\"],df[\"Purchase_freq_order\"])\n",
    "corrfunc(df[\"Loyalty_prog_avail_order\"],df[\"Purchase_freq_order\"])\n",
    "corrfunc(df[\"Reviews_reliance_order\"],df[\"Purchase_freq_order\"])\n",
    "corrfunc(df[\"Product_rec_trust_order\"],df[\"Purchase_freq_order\"])\n",
    "corrfunc(df[\"Sale_purchase_freq_order\"],df[\"Purchase_freq_order\"])"
   ]
  },
  {
   "cell_type": "code",
   "execution_count": 30,
   "id": "c33cbff0",
   "metadata": {},
   "outputs": [
    {
     "data": {
      "text/plain": [
       "[-0.12866833015305573,\n",
       " -0.03401266845180915,\n",
       " 0.14155606437299684,\n",
       " 0.255970014961073,\n",
       " 0.22943979838902095,\n",
       " 0.14249613312283235,\n",
       " 0.22766316963581237]"
      ]
     },
     "execution_count": 30,
     "metadata": {},
     "output_type": "execute_result"
    }
   ],
   "source": [
    "pur_habits_corr"
   ]
  },
  {
   "cell_type": "code",
   "execution_count": 31,
   "id": "5ac81c73",
   "metadata": {},
   "outputs": [
    {
     "data": {
      "text/plain": [
       "-0.12866833015305573"
      ]
     },
     "execution_count": 31,
     "metadata": {},
     "output_type": "execute_result"
    }
   ],
   "source": [
    "pur_habits_corr[0]"
   ]
  },
  {
   "cell_type": "code",
   "execution_count": 32,
   "id": "27fa6b86",
   "metadata": {},
   "outputs": [],
   "source": [
    "# Var 2: Brand Loyalty: func of vars: Brand_switch_likeliness_order, Brand_name_imp_order, Env_friendly_imp_order, \n",
    "# Company_rep_imp_order, Sustainability_imp_order, Customer_service_imp_order, Price_imp_order, Packaging_design_imp_order\n",
    "# MAIN VAR: Brand_name_imp_order\n",
    "\n",
    "brand_loyalty_corr = []\n",
    "\n",
    "def corrfunc(a,b):\n",
    "    # create two arrays of data\n",
    "    x = np.array(a)\n",
    "    y = np.array(b)\n",
    "    # find the correlation coefficient value\n",
    "    corr_coef = np.corrcoef(x, y)[0, 1]\n",
    "    brand_loyalty_corr.append(corr_coef)\n",
    "    print(corr_coef)"
   ]
  },
  {
   "cell_type": "code",
   "execution_count": 33,
   "id": "5fbe1b15",
   "metadata": {},
   "outputs": [
    {
     "name": "stdout",
     "output_type": "stream",
     "text": [
      "0.0686061594957347\n",
      "0.045140745881004585\n",
      "0.3393714262204687\n",
      "0.11629642967059678\n",
      "0.1389465537408261\n",
      "0.2502561219402368\n"
     ]
    }
   ],
   "source": [
    "corrfunc(df[\"Brand_switch_likeliness_order\"],df[\"Brand_name_imp_order\"])\n",
    "corrfunc(df[\"Env_friendly_imp_order\"],df[\"Brand_name_imp_order\"])\n",
    "corrfunc(df[\"Company_rep_imp_order\"],df[\"Brand_name_imp_order\"])\n",
    "corrfunc(df[\"Sustainability_imp_order\"],df[\"Brand_name_imp_order\"])\n",
    "# corrfunc(df[\"Customer_service_imp_order\"],df[\"Brand_name_imp_order\"]) (gives NaN)\n",
    "corrfunc(df[\"Price_imp_order\"],df[\"Brand_name_imp_order\"])\n",
    "corrfunc(df[\"Packaging_design_imp_order\"],df[\"Brand_name_imp_order\"])"
   ]
  },
  {
   "cell_type": "code",
   "execution_count": 34,
   "id": "f11cb593",
   "metadata": {},
   "outputs": [
    {
     "data": {
      "text/plain": [
       "[0.0686061594957347,\n",
       " 0.045140745881004585,\n",
       " 0.3393714262204687,\n",
       " 0.11629642967059678,\n",
       " 0.1389465537408261,\n",
       " 0.2502561219402368]"
      ]
     },
     "execution_count": 34,
     "metadata": {},
     "output_type": "execute_result"
    }
   ],
   "source": [
    "brand_loyalty_corr"
   ]
  },
  {
   "cell_type": "code",
   "execution_count": 35,
   "id": "f145c2ed",
   "metadata": {},
   "outputs": [
    {
     "data": {
      "text/plain": [
       "0      4.443116\n",
       "1      3.702901\n",
       "2      3.841740\n",
       "3      4.301785\n",
       "4      4.181440\n",
       "         ...   \n",
       "156    6.347949\n",
       "157    2.304435\n",
       "158    5.502918\n",
       "159    4.045815\n",
       "160    4.448720\n",
       "Name: Pur_habits_agg, Length: 161, dtype: float64"
      ]
     },
     "execution_count": 35,
     "metadata": {},
     "output_type": "execute_result"
    }
   ],
   "source": [
    "# Var 1: Purchasing habits: func of vars: Age_order, Salary_order, \n",
    "# Social_media_influence_order, Loyalty_prog_avail_order, Reviews_reliance_order, Product_rec_trust_order, \n",
    "# Sale_purchase_freq_order, Purchase_freq_order\n",
    "# MAIN VAR: Purchase_freq_order\n",
    "\n",
    "df[\"Pur_habits_agg\"] = (df[\"Purchase_freq_order\"]) + (pur_habits_corr[0]*df[\"Age_order\"]) + (pur_habits_corr[1]*df[\"Salary_order\"]) + (pur_habits_corr[2]*df[\"Social_media_influence_order\"]) + (pur_habits_corr[3]*df[\"Loyalty_prog_avail_order\"]) + (pur_habits_corr[4]*df[\"Reviews_reliance_order\"]) + (pur_habits_corr[5]*df[\"Product_rec_trust_order\"]) + (pur_habits_corr[6]*df[\"Sale_purchase_freq_order\"])\n",
    "\n",
    "df.Pur_habits_agg"
   ]
  },
  {
   "cell_type": "code",
   "execution_count": 36,
   "id": "091f143f",
   "metadata": {},
   "outputs": [
    {
     "data": {
      "text/plain": [
       "0      4.217619\n",
       "1      4.030982\n",
       "2      3.919672\n",
       "3      4.304456\n",
       "4      4.556990\n",
       "         ...   \n",
       "156    6.599693\n",
       "157    5.286225\n",
       "158    5.647080\n",
       "159    4.627330\n",
       "160    4.541468\n",
       "Name: Brand_loyalty_agg, Length: 161, dtype: float64"
      ]
     },
     "execution_count": 36,
     "metadata": {},
     "output_type": "execute_result"
    }
   ],
   "source": [
    "# Var 2: Brand Loyalty: func of vars: Brand_switch_likeliness_order, Brand_name_imp_order, Env_friendly_imp_order, \n",
    "# Company_rep_imp_order, Sustainability_imp_order, Customer_service_imp_order, Price_imp_order, Packaging_design_imp_order\n",
    "# MAIN VAR: Brand_name_imp_order\n",
    "\n",
    "df[\"Brand_loyalty_agg\"] = (df[\"Brand_name_imp_order\"]) + (brand_loyalty_corr[0]*df[\"Brand_switch_likeliness_order\"]) + (brand_loyalty_corr[1]*df[\"Env_friendly_imp_order\"]) + (brand_loyalty_corr[2]*df[\"Company_rep_imp_order\"]) + (brand_loyalty_corr[3]*df[\"Sustainability_imp_order\"]) + (brand_loyalty_corr[4]*df[\"Price_imp_order\"]) + (brand_loyalty_corr[5]*df[\"Packaging_design_imp_order\"])\n",
    "\n",
    "df.Brand_loyalty_agg"
   ]
  },
  {
   "cell_type": "code",
   "execution_count": 37,
   "id": "7543890b",
   "metadata": {},
   "outputs": [],
   "source": [
    "# FINAL VARIABLES TO APPLY NON-PARAMETRIC TESTS ON:\n",
    "# df.Pur_habits_agg AND df.Brand_loyalty_agg"
   ]
  },
  {
   "cell_type": "markdown",
   "id": "f18d004c",
   "metadata": {},
   "source": [
    "H0: There is no significant correlation between two variables in a population. In other words, the null hypothesis states that the true correlation coefficient (rho) between two variables in a population is zero.\n",
    "\n",
    "H1: There is a significant correlation between the two variables in the population, and this correlation coefficient is not equal to zero."
   ]
  },
  {
   "cell_type": "code",
   "execution_count": 39,
   "id": "94e2ad53",
   "metadata": {},
   "outputs": [
    {
     "name": "stdout",
     "output_type": "stream",
     "text": [
      "Spearman rank correlation coefficient: 0.1843987030228246\n",
      "0.019199047293723296\n"
     ]
    }
   ],
   "source": [
    "from scipy.stats import spearmanr\n",
    "\n",
    "\n",
    "\n",
    "# Calculate the Spearman rank correlation coefficient and p-value\n",
    "corr_coef, p_value = spearmanr(df.Pur_habits_agg,df.Brand_loyalty_agg)\n",
    "\n",
    "# Print the result\n",
    "print(\"Spearman rank correlation coefficient:\", corr_coef)\n",
    "print(p_value)"
   ]
  },
  {
   "cell_type": "markdown",
   "id": "d5321442",
   "metadata": {},
   "source": [
    " \n",
    "\n",
    "Conclusion:\n",
    "Here the p_value is less than 0.05. Hence we reject H0\n",
    "i.e,There is a significant correlation between the two variables in the population"
   ]
  },
  {
   "cell_type": "code",
   "execution_count": null,
   "id": "f7165679",
   "metadata": {},
   "outputs": [],
   "source": []
  }
 ],
 "metadata": {
  "kernelspec": {
   "display_name": "Python 3 (ipykernel)",
   "language": "python",
   "name": "python3"
  },
  "language_info": {
   "codemirror_mode": {
    "name": "ipython",
    "version": 3
   },
   "file_extension": ".py",
   "mimetype": "text/x-python",
   "name": "python",
   "nbconvert_exporter": "python",
   "pygments_lexer": "ipython3",
   "version": "3.9.13"
  }
 },
 "nbformat": 4,
 "nbformat_minor": 5
}
